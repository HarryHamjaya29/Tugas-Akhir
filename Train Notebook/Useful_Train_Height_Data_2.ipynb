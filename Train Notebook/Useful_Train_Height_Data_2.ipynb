{
 "cells": [
  {
   "cell_type": "code",
   "execution_count": 1,
   "metadata": {},
   "outputs": [
    {
     "name": "stderr",
     "output_type": "stream",
     "text": [
      "/usr/local/lib/python3.7/dist-packages/sklearn/externals/joblib/__init__.py:15: DeprecationWarning: sklearn.externals.joblib is deprecated in 0.21 and will be removed in 0.23. Please import this functionality directly from joblib, which can be installed with: pip install joblib. If this warning is raised when loading pickled models, you may need to re-serialize those models with scikit-learn 0.21+.\n",
      "  warnings.warn(msg, category=DeprecationWarning)\n"
     ]
    }
   ],
   "source": [
    "import pandas as pd\n",
    "import os\n",
    "\n",
    "import numpy as np\n",
    "import math\n",
    "import random\n",
    "import itertools\n",
    "import random\n",
    "from sklearn.externals import joblib\n",
    "\n",
    "import matplotlib.pyplot as plt\n",
    "import math"
   ]
  },
  {
   "cell_type": "code",
   "execution_count": 2,
   "metadata": {},
   "outputs": [
    {
     "data": {
      "text/html": [
       "<div>\n",
       "<style scoped>\n",
       "    .dataframe tbody tr th:only-of-type {\n",
       "        vertical-align: middle;\n",
       "    }\n",
       "\n",
       "    .dataframe tbody tr th {\n",
       "        vertical-align: top;\n",
       "    }\n",
       "\n",
       "    .dataframe thead th {\n",
       "        text-align: right;\n",
       "    }\n",
       "</style>\n",
       "<table border=\"1\" class=\"dataframe\">\n",
       "  <thead>\n",
       "    <tr style=\"text-align: right;\">\n",
       "      <th></th>\n",
       "      <th>10-19</th>\n",
       "      <th>8-26</th>\n",
       "      <th>height</th>\n",
       "    </tr>\n",
       "  </thead>\n",
       "  <tbody>\n",
       "    <tr>\n",
       "      <td>0</td>\n",
       "      <td>127.141653</td>\n",
       "      <td>121.202310</td>\n",
       "      <td>155.95</td>\n",
       "    </tr>\n",
       "    <tr>\n",
       "      <td>1</td>\n",
       "      <td>142.358702</td>\n",
       "      <td>143.171226</td>\n",
       "      <td>156.70</td>\n",
       "    </tr>\n",
       "    <tr>\n",
       "      <td>2</td>\n",
       "      <td>89.470666</td>\n",
       "      <td>85.866175</td>\n",
       "      <td>154.15</td>\n",
       "    </tr>\n",
       "    <tr>\n",
       "      <td>3</td>\n",
       "      <td>115.693561</td>\n",
       "      <td>115.412304</td>\n",
       "      <td>155.45</td>\n",
       "    </tr>\n",
       "    <tr>\n",
       "      <td>4</td>\n",
       "      <td>151.158857</td>\n",
       "      <td>144.474911</td>\n",
       "      <td>157.25</td>\n",
       "    </tr>\n",
       "    <tr>\n",
       "      <td>...</td>\n",
       "      <td>...</td>\n",
       "      <td>...</td>\n",
       "      <td>...</td>\n",
       "    </tr>\n",
       "    <tr>\n",
       "      <td>481</td>\n",
       "      <td>88.294960</td>\n",
       "      <td>88.526832</td>\n",
       "      <td>154.30</td>\n",
       "    </tr>\n",
       "    <tr>\n",
       "      <td>482</td>\n",
       "      <td>184.707877</td>\n",
       "      <td>180.013888</td>\n",
       "      <td>158.65</td>\n",
       "    </tr>\n",
       "    <tr>\n",
       "      <td>483</td>\n",
       "      <td>230.902577</td>\n",
       "      <td>243.877018</td>\n",
       "      <td>160.95</td>\n",
       "    </tr>\n",
       "    <tr>\n",
       "      <td>484</td>\n",
       "      <td>298.187860</td>\n",
       "      <td>276.537520</td>\n",
       "      <td>164.30</td>\n",
       "    </tr>\n",
       "    <tr>\n",
       "      <td>485</td>\n",
       "      <td>259.988461</td>\n",
       "      <td>253.339693</td>\n",
       "      <td>162.55</td>\n",
       "    </tr>\n",
       "  </tbody>\n",
       "</table>\n",
       "<p>486 rows × 3 columns</p>\n",
       "</div>"
      ],
      "text/plain": [
       "          10-19        8-26  height\n",
       "0    127.141653  121.202310  155.95\n",
       "1    142.358702  143.171226  156.70\n",
       "2     89.470666   85.866175  154.15\n",
       "3    115.693561  115.412304  155.45\n",
       "4    151.158857  144.474911  157.25\n",
       "..          ...         ...     ...\n",
       "481   88.294960   88.526832  154.30\n",
       "482  184.707877  180.013888  158.65\n",
       "483  230.902577  243.877018  160.95\n",
       "484  298.187860  276.537520  164.30\n",
       "485  259.988461  253.339693  162.55\n",
       "\n",
       "[486 rows x 3 columns]"
      ]
     },
     "execution_count": 2,
     "metadata": {},
     "output_type": "execute_result"
    }
   ],
   "source": [
    "label_file = \"Dataset/selection_height_2.csv\"\n",
    "data_df = pd.read_csv(label_file)\n",
    "data_df"
   ]
  },
  {
   "cell_type": "code",
   "execution_count": 3,
   "metadata": {},
   "outputs": [],
   "source": [
    "data = data_df.drop(['height'], axis=1)"
   ]
  },
  {
   "cell_type": "code",
   "execution_count": 4,
   "metadata": {},
   "outputs": [],
   "source": [
    "data_arr = data.to_numpy()"
   ]
  },
  {
   "cell_type": "code",
   "execution_count": 5,
   "metadata": {},
   "outputs": [
    {
     "data": {
      "text/plain": [
       "0      155.95\n",
       "1      156.70\n",
       "2      154.15\n",
       "3      155.45\n",
       "4      157.25\n",
       "        ...  \n",
       "481    154.30\n",
       "482    158.65\n",
       "483    160.95\n",
       "484    164.30\n",
       "485    162.55\n",
       "Name: height, Length: 486, dtype: float64"
      ]
     },
     "execution_count": 5,
     "metadata": {},
     "output_type": "execute_result"
    }
   ],
   "source": [
    "label = data_df['height']\n",
    "label"
   ]
  },
  {
   "cell_type": "code",
   "execution_count": 6,
   "metadata": {},
   "outputs": [
    {
     "data": {
      "text/plain": [
       "array([155.95, 156.7 , 154.15, 155.45, 157.25, 162.25, 159.8 , 160.4 ,\n",
       "       155.4 , 158.65, 158.9 , 160.85, 156.9 , 162.3 , 156.1 , 161.3 ,\n",
       "       158.3 , 157.1 , 155.1 , 157.75, 159.5 , 163.25, 163.2 , 154.85,\n",
       "       155.  , 158.1 , 159.05, 158.  , 157.15, 157.  , 157.05, 162.65,\n",
       "       157.25, 156.85, 156.3 , 158.05, 154.05, 156.5 , 158.75, 157.05,\n",
       "       155.35, 161.45, 159.35, 162.9 , 154.55, 154.9 , 154.35, 154.05,\n",
       "       160.9 , 155.4 , 161.45, 154.25, 154.7 , 155.  , 158.25, 160.45,\n",
       "       157.3 , 166.9 , 154.2 , 168.95, 156.1 , 155.85, 154.45, 162.6 ,\n",
       "       156.05, 155.25, 161.35, 162.65, 154.9 , 159.85, 159.25, 158.1 ,\n",
       "       159.9 , 163.  , 156.95, 154.4 , 160.2 , 154.25, 155.1 , 154.15,\n",
       "       160.45, 156.85, 160.1 , 161.75, 159.9 , 154.7 , 164.25, 158.7 ,\n",
       "       156.45, 154.8 , 163.25, 159.15, 158.95, 162.85, 155.9 , 168.7 ,\n",
       "       158.85, 165.65, 157.5 , 158.35, 161.1 , 157.5 , 158.1 , 158.65,\n",
       "       161.35, 158.6 , 161.8 , 154.6 , 160.9 , 161.45, 160.7 , 156.75,\n",
       "       155.85, 159.05, 162.05, 162.3 , 156.3 , 156.2 , 159.95, 161.45,\n",
       "       163.15, 159.  , 154.  , 155.2 , 155.25, 157.15, 158.65, 162.6 ,\n",
       "       166.35, 154.25, 160.5 , 156.85, 162.9 , 154.5 , 156.4 , 157.65,\n",
       "       154.6 , 156.85, 156.9 , 155.2 , 163.15, 160.4 , 163.05, 163.2 ,\n",
       "       161.9 , 154.4 , 159.3 , 159.45, 158.3 , 158.2 , 156.55, 156.15,\n",
       "       155.2 , 160.8 , 154.95, 160.75, 159.  , 157.95, 156.15, 155.05,\n",
       "       157.35, 156.7 , 156.25, 158.35, 156.85, 154.7 , 155.2 , 157.95,\n",
       "       155.55, 161.95, 158.3 , 162.1 , 166.8 , 159.4 , 159.35, 165.65,\n",
       "       165.5 , 168.95, 154.25, 158.4 , 165.7 , 163.4 , 156.9 , 165.6 ,\n",
       "       155.8 , 167.65, 169.15, 156.05, 165.6 , 162.85, 157.85, 156.65,\n",
       "       160.75, 154.95, 160.7 , 162.5 , 156.35, 161.  , 159.5 , 154.25,\n",
       "       155.9 , 159.9 , 159.2 , 160.4 , 165.2 , 156.25, 158.95, 157.1 ,\n",
       "       164.15, 157.95, 159.7 , 157.25, 167.6 , 166.2 , 154.75, 155.9 ,\n",
       "       154.65, 159.35, 162.55, 155.2 , 169.35, 154.65, 154.65, 163.2 ,\n",
       "       155.35, 161.2 , 169.75, 160.75, 156.8 , 154.75, 154.9 , 158.7 ,\n",
       "       158.8 , 161.45, 164.9 , 155.95, 156.3 , 159.35, 158.  , 154.85,\n",
       "       158.05, 158.1 , 163.15, 165.1 , 166.95, 155.2 , 158.9 , 166.35,\n",
       "       154.15, 155.95, 158.45, 159.15, 159.  , 164.3 , 161.3 , 165.3 ,\n",
       "       155.25, 165.05, 159.25, 160.3 , 155.  , 166.85, 158.95, 159.35,\n",
       "       162.4 , 157.65, 154.05, 154.1 , 161.5 , 156.95, 164.65, 154.75,\n",
       "       167.1 , 159.25, 161.5 , 160.05, 165.35, 162.15, 163.75, 157.4 ,\n",
       "       157.8 , 164.9 , 158.3 , 156.6 , 166.95, 157.1 , 156.85, 167.85,\n",
       "       167.65, 155.65, 158.65, 156.55, 167.55, 165.1 , 155.9 , 158.2 ,\n",
       "       157.6 , 163.7 , 161.8 , 157.15, 157.55, 154.75, 154.25, 154.3 ,\n",
       "       166.25, 156.2 , 158.05, 162.7 , 159.45, 163.6 , 157.55, 167.9 ,\n",
       "       168.75, 158.25, 154.9 , 168.75, 169.85, 167.9 , 168.6 , 158.55,\n",
       "       165.2 , 161.3 , 159.8 , 166.2 , 154.9 , 156.7 , 160.95, 160.2 ,\n",
       "       156.85, 160.7 , 154.95, 158.6 , 157.1 , 164.75, 160.95, 156.15,\n",
       "       162.25, 157.85, 156.6 , 160.9 , 154.4 , 156.55, 158.15, 161.8 ,\n",
       "       160.4 , 154.5 , 166.8 , 163.95, 167.4 , 154.05, 158.6 , 167.85,\n",
       "       167.  , 157.4 , 154.1 , 155.55, 156.35, 161.35, 161.7 , 157.35,\n",
       "       155.7 , 154.6 , 154.4 , 158.15, 154.75, 163.35, 165.  , 164.25,\n",
       "       158.8 , 167.75, 154.9 , 160.1 , 157.05, 155.1 , 166.8 , 157.1 ,\n",
       "       154.4 , 161.4 , 160.35, 155.75, 156.25, 155.85, 156.75, 155.9 ,\n",
       "       165.3 , 162.1 , 158.15, 163.2 , 162.15, 166.  , 159.25, 159.95,\n",
       "       161.55, 158.9 , 155.35, 167.15, 158.1 , 158.  , 157.6 , 157.85,\n",
       "       159.75, 154.75, 168.8 , 165.9 , 166.5 , 158.25, 158.95, 157.1 ,\n",
       "       157.75, 154.3 , 155.7 , 156.85, 156.5 , 164.65, 157.8 , 155.3 ,\n",
       "       160.55, 161.25, 158.1 , 159.85, 159.15, 154.3 , 167.8 , 160.3 ,\n",
       "       154.05, 169.8 , 163.65, 156.  , 156.1 , 156.2 , 156.35, 158.85,\n",
       "       156.2 , 161.  , 158.9 , 158.  , 155.75, 159.55, 160.95, 157.75,\n",
       "       168.1 , 162.95, 167.15, 158.45, 158.85, 155.35, 169.8 , 156.  ,\n",
       "       166.45, 154.1 , 166.5 , 156.75, 154.55, 162.45, 160.75, 155.6 ,\n",
       "       158.5 , 160.3 , 167.9 , 162.  , 160.7 , 155.  , 161.9 , 160.8 ,\n",
       "       155.05, 154.85, 156.3 , 169.55, 154.4 , 161.35, 155.2 , 158.35,\n",
       "       158.6 , 154.35, 156.5 , 164.6 , 160.35, 155.05, 168.9 , 156.5 ,\n",
       "       154.1 , 154.3 , 158.65, 160.95, 164.3 , 162.55])"
      ]
     },
     "execution_count": 6,
     "metadata": {},
     "output_type": "execute_result"
    }
   ],
   "source": [
    "temp_label = label.to_numpy()\n",
    "temp_label"
   ]
  },
  {
   "cell_type": "code",
   "execution_count": 7,
   "metadata": {},
   "outputs": [],
   "source": [
    "from sklearn.model_selection import train_test_split\n",
    "X_train, X_test, y_train, y_test = train_test_split(data_arr, temp_label, test_size=0.2, random_state=1)"
   ]
  },
  {
   "cell_type": "code",
   "execution_count": 8,
   "metadata": {},
   "outputs": [],
   "source": [
    "from sklearn import  linear_model\n",
    "from sklearn.linear_model import Ridge, Lasso\n",
    "from sklearn.metrics import mean_squared_error, r2_score, mean_absolute_error\n",
    "from math import sqrt\n",
    "from sklearn.preprocessing import PolynomialFeatures"
   ]
  },
  {
   "cell_type": "code",
   "execution_count": 9,
   "metadata": {},
   "outputs": [],
   "source": [
    "def create_polynomial_regression_model(degree):\n",
    "    #\"Creates a polynomial regression model for the given degree\"\n",
    "    poly_features = PolynomialFeatures(degree=degree)\n",
    "    # transforms the existing features to higher degree features.\n",
    "    X_train_poly = poly_features.fit_transform(X_train)\n",
    "    # fit the transformed features to Linear Regression\n",
    "    poly_model = linear_model.LinearRegression()\n",
    "    poly_model.fit(X_train_poly, y_train)\n",
    "    # predicting on training data-set\n",
    "    y_train_predicted = poly_model.predict(X_train_poly)\n",
    "#     y_train_predicted = np.expm1(y_train_predicted)\n",
    "    # predicting on test data-set\n",
    "    y_test_predict = poly_model.predict(poly_features.fit_transform(X_test))\n",
    "#     y_test_predict = np.expm1(y_test_predict)\n",
    "    # evaluating the model on training dataset\n",
    "    rmse_train = np.sqrt(mean_squared_error(y_train, y_train_predicted))\n",
    "    rmae_train = (mean_absolute_error(y_train, y_train_predicted))\n",
    "    r2_train = r2_score(y_train, y_train_predicted)\n",
    "    # evaluating the model on test dataset\n",
    "    rmse_test = np.sqrt(mean_squared_error(y_test, y_test_predict))\n",
    "    rmae_test = (mean_absolute_error(y_test, y_test_predict))\n",
    "    r2_test = r2_score(y_test, y_test_predict)\n",
    "#     print(\"The model performance for the training set\")\n",
    "#     print(\"-------------------------------------------\")\n",
    "#     print(\"RMSE of training set is {}\".format(rmse_train))\n",
    "#     print(\"RMAE of training set is {}\".format(rmae_train))\n",
    "#     print(\"Model score of training set is {}\".format(r2_train))\n",
    "#     print(\"\\n\")\n",
    "    print(\"The model performance for the test set\")\n",
    "    print(\"-------------------------------------------\")\n",
    "    print(\"RMSE of test set is {}\".format(rmse_test))\n",
    "    print(\"RMAE of test set is {}\".format(rmae_test))\n",
    "    print(\"Model score of test set is {}\".format(r2_test))"
   ]
  },
  {
   "cell_type": "code",
   "execution_count": 10,
   "metadata": {},
   "outputs": [],
   "source": [
    "def report_goodness(model,X_test,y_test,predictor_log=True):\n",
    "    # Make predictions using the testing set\n",
    "    y_pred = model.predict(X_test)\n",
    "    y_true = y_test\n",
    "    if predictor_log:\n",
    "        y_true = np.log(y_test)\n",
    "    print('Model Performance')\n",
    "    print(\"Root Mean squared error: %.4f\" %sqrt(mean_squared_error(y_true, y_pred)))\n",
    "    print(\"Mean squared error: %.4f\" %mean_squared_error(y_true, y_pred))\n",
    "    print('Mean Absolute Error: %.4f' %mean_absolute_error(y_true, y_pred))\n",
    "    print('Variant score: %.4f' %r2_score(y_true, y_pred))"
   ]
  },
  {
   "cell_type": "code",
   "execution_count": 11,
   "metadata": {},
   "outputs": [
    {
     "name": "stdout",
     "output_type": "stream",
     "text": [
      "Model Performance\n",
      "Root Mean squared error: 0.2778\n",
      "Mean squared error: 0.0772\n",
      "Mean Absolute Error: 0.1871\n",
      "Variant score: 0.9953\n"
     ]
    }
   ],
   "source": [
    "model_linear = linear_model.LinearRegression()\n",
    "model_linear = model_linear.fit(X_train,y_train)\n",
    "\n",
    "report_goodness(model_linear,X_test,y_test, False)"
   ]
  },
  {
   "cell_type": "code",
   "execution_count": 12,
   "metadata": {},
   "outputs": [
    {
     "name": "stdout",
     "output_type": "stream",
     "text": [
      "Model Performance\n",
      "Root Mean squared error: 0.2778\n",
      "Mean squared error: 0.0772\n",
      "Mean Absolute Error: 0.1871\n",
      "Variant score: 0.9953\n"
     ]
    }
   ],
   "source": [
    "model_ridge = Ridge(fit_intercept=True, alpha=0.0001, random_state=4)\n",
    "model_ridge = model_ridge.fit(X_train,y_train)\n",
    "\n",
    "report_goodness(model_ridge,X_test,y_test, False)"
   ]
  },
  {
   "cell_type": "code",
   "execution_count": 13,
   "metadata": {},
   "outputs": [
    {
     "name": "stdout",
     "output_type": "stream",
     "text": [
      "Model Performance\n",
      "Root Mean squared error: 0.2778\n",
      "Mean squared error: 0.0772\n",
      "Mean Absolute Error: 0.1871\n",
      "Variant score: 0.9953\n"
     ]
    }
   ],
   "source": [
    "model_lasso = Lasso(fit_intercept=True, alpha=0.0001, random_state=4, max_iter=2000)\n",
    "model_lasso = model_lasso.fit(X_train,y_train)\n",
    "\n",
    "report_goodness(model_lasso,X_test,y_test,False)"
   ]
  },
  {
   "cell_type": "code",
   "execution_count": 14,
   "metadata": {},
   "outputs": [
    {
     "name": "stdout",
     "output_type": "stream",
     "text": [
      "The model performance for the test set\n",
      "-------------------------------------------\n",
      "RMSE of test set is 0.2778343202789308\n",
      "RMAE of test set is 0.1871220955115535\n",
      "Model score of test set is 0.9952628076391933\n"
     ]
    }
   ],
   "source": [
    "create_polynomial_regression_model(1)"
   ]
  },
  {
   "cell_type": "code",
   "execution_count": 15,
   "metadata": {},
   "outputs": [
    {
     "name": "stdout",
     "output_type": "stream",
     "text": [
      "The model performance for the test set\n",
      "-------------------------------------------\n",
      "RMSE of test set is 0.2526076247208826\n",
      "RMAE of test set is 0.17822207535753556\n",
      "Model score of test set is 0.996084004840877\n"
     ]
    }
   ],
   "source": [
    "create_polynomial_regression_model(2)"
   ]
  },
  {
   "cell_type": "code",
   "execution_count": 16,
   "metadata": {},
   "outputs": [
    {
     "name": "stdout",
     "output_type": "stream",
     "text": [
      "The model performance for the test set\n",
      "-------------------------------------------\n",
      "RMSE of test set is 0.23275094943197921\n",
      "RMAE of test set is 0.1717552626053467\n",
      "Model score of test set is 0.9966754554398699\n"
     ]
    }
   ],
   "source": [
    "create_polynomial_regression_model(3)"
   ]
  },
  {
   "cell_type": "code",
   "execution_count": 17,
   "metadata": {},
   "outputs": [
    {
     "name": "stdout",
     "output_type": "stream",
     "text": [
      "The model performance for the test set\n",
      "-------------------------------------------\n",
      "RMSE of test set is 0.2806974862767662\n",
      "RMAE of test set is 0.1912665600067147\n",
      "Model score of test set is 0.9951646681770345\n"
     ]
    }
   ],
   "source": [
    "create_polynomial_regression_model(4)"
   ]
  },
  {
   "cell_type": "code",
   "execution_count": 18,
   "metadata": {},
   "outputs": [
    {
     "name": "stdout",
     "output_type": "stream",
     "text": [
      "The model performance for the test set\n",
      "-------------------------------------------\n",
      "RMSE of test set is 0.3245303188618338\n",
      "RMAE of test set is 0.1910988072166075\n",
      "Model score of test set is 0.9935366185294182\n"
     ]
    }
   ],
   "source": [
    "create_polynomial_regression_model(5)"
   ]
  },
  {
   "cell_type": "code",
   "execution_count": null,
   "metadata": {},
   "outputs": [],
   "source": []
  }
 ],
 "metadata": {
  "kernelspec": {
   "display_name": "Python 3",
   "language": "python",
   "name": "python3"
  },
  "language_info": {
   "codemirror_mode": {
    "name": "ipython",
    "version": 3
   },
   "file_extension": ".py",
   "mimetype": "text/x-python",
   "name": "python",
   "nbconvert_exporter": "python",
   "pygments_lexer": "ipython3",
   "version": "3.7.3"
  }
 },
 "nbformat": 4,
 "nbformat_minor": 2
}
