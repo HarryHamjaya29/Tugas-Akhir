{
 "cells": [
  {
   "cell_type": "code",
   "execution_count": 1,
   "metadata": {},
   "outputs": [
    {
     "name": "stderr",
     "output_type": "stream",
     "text": [
      "/usr/local/lib/python3.7/dist-packages/sklearn/externals/joblib/__init__.py:15: DeprecationWarning: sklearn.externals.joblib is deprecated in 0.21 and will be removed in 0.23. Please import this functionality directly from joblib, which can be installed with: pip install joblib. If this warning is raised when loading pickled models, you may need to re-serialize those models with scikit-learn 0.21+.\n",
      "  warnings.warn(msg, category=DeprecationWarning)\n"
     ]
    }
   ],
   "source": [
    "import pandas as pd\n",
    "import os\n",
    "\n",
    "import numpy as np\n",
    "import math\n",
    "import random\n",
    "import itertools\n",
    "import random\n",
    "from sklearn.externals import joblib\n",
    "\n",
    "import matplotlib.pyplot as plt\n",
    "import math"
   ]
  },
  {
   "cell_type": "code",
   "execution_count": 2,
   "metadata": {},
   "outputs": [
    {
     "data": {
      "text/html": [
       "<div>\n",
       "<style scoped>\n",
       "    .dataframe tbody tr th:only-of-type {\n",
       "        vertical-align: middle;\n",
       "    }\n",
       "\n",
       "    .dataframe tbody tr th {\n",
       "        vertical-align: top;\n",
       "    }\n",
       "\n",
       "    .dataframe thead th {\n",
       "        text-align: right;\n",
       "    }\n",
       "</style>\n",
       "<table border=\"1\" class=\"dataframe\">\n",
       "  <thead>\n",
       "    <tr style=\"text-align: right;\">\n",
       "      <th></th>\n",
       "      <th>10-19</th>\n",
       "      <th>8-26</th>\n",
       "      <th>weight</th>\n",
       "    </tr>\n",
       "  </thead>\n",
       "  <tbody>\n",
       "    <tr>\n",
       "      <td>0</td>\n",
       "      <td>127.141653</td>\n",
       "      <td>121.202310</td>\n",
       "      <td>55.95</td>\n",
       "    </tr>\n",
       "    <tr>\n",
       "      <td>1</td>\n",
       "      <td>142.358702</td>\n",
       "      <td>143.171226</td>\n",
       "      <td>56.70</td>\n",
       "    </tr>\n",
       "    <tr>\n",
       "      <td>2</td>\n",
       "      <td>89.470666</td>\n",
       "      <td>85.866175</td>\n",
       "      <td>54.15</td>\n",
       "    </tr>\n",
       "    <tr>\n",
       "      <td>3</td>\n",
       "      <td>115.693561</td>\n",
       "      <td>115.412304</td>\n",
       "      <td>55.45</td>\n",
       "    </tr>\n",
       "    <tr>\n",
       "      <td>4</td>\n",
       "      <td>151.158857</td>\n",
       "      <td>144.474911</td>\n",
       "      <td>57.25</td>\n",
       "    </tr>\n",
       "    <tr>\n",
       "      <td>...</td>\n",
       "      <td>...</td>\n",
       "      <td>...</td>\n",
       "      <td>...</td>\n",
       "    </tr>\n",
       "    <tr>\n",
       "      <td>481</td>\n",
       "      <td>88.294960</td>\n",
       "      <td>88.526832</td>\n",
       "      <td>54.30</td>\n",
       "    </tr>\n",
       "    <tr>\n",
       "      <td>482</td>\n",
       "      <td>184.707877</td>\n",
       "      <td>180.013888</td>\n",
       "      <td>58.65</td>\n",
       "    </tr>\n",
       "    <tr>\n",
       "      <td>483</td>\n",
       "      <td>230.902577</td>\n",
       "      <td>243.877018</td>\n",
       "      <td>60.95</td>\n",
       "    </tr>\n",
       "    <tr>\n",
       "      <td>484</td>\n",
       "      <td>298.187860</td>\n",
       "      <td>276.537520</td>\n",
       "      <td>64.30</td>\n",
       "    </tr>\n",
       "    <tr>\n",
       "      <td>485</td>\n",
       "      <td>259.988461</td>\n",
       "      <td>253.339693</td>\n",
       "      <td>62.55</td>\n",
       "    </tr>\n",
       "  </tbody>\n",
       "</table>\n",
       "<p>486 rows × 3 columns</p>\n",
       "</div>"
      ],
      "text/plain": [
       "          10-19        8-26  weight\n",
       "0    127.141653  121.202310   55.95\n",
       "1    142.358702  143.171226   56.70\n",
       "2     89.470666   85.866175   54.15\n",
       "3    115.693561  115.412304   55.45\n",
       "4    151.158857  144.474911   57.25\n",
       "..          ...         ...     ...\n",
       "481   88.294960   88.526832   54.30\n",
       "482  184.707877  180.013888   58.65\n",
       "483  230.902577  243.877018   60.95\n",
       "484  298.187860  276.537520   64.30\n",
       "485  259.988461  253.339693   62.55\n",
       "\n",
       "[486 rows x 3 columns]"
      ]
     },
     "execution_count": 2,
     "metadata": {},
     "output_type": "execute_result"
    }
   ],
   "source": [
    "label_file = \"Dataset/selection_weight_2.csv\"\n",
    "data_df = pd.read_csv(label_file)\n",
    "data_df"
   ]
  },
  {
   "cell_type": "code",
   "execution_count": 3,
   "metadata": {},
   "outputs": [],
   "source": [
    "data = data_df.drop(['weight'], axis=1)"
   ]
  },
  {
   "cell_type": "code",
   "execution_count": 4,
   "metadata": {},
   "outputs": [],
   "source": [
    "data_arr = data.to_numpy()"
   ]
  },
  {
   "cell_type": "code",
   "execution_count": 5,
   "metadata": {},
   "outputs": [
    {
     "data": {
      "text/plain": [
       "0      55.95\n",
       "1      56.70\n",
       "2      54.15\n",
       "3      55.45\n",
       "4      57.25\n",
       "       ...  \n",
       "481    54.30\n",
       "482    58.65\n",
       "483    60.95\n",
       "484    64.30\n",
       "485    62.55\n",
       "Name: weight, Length: 486, dtype: float64"
      ]
     },
     "execution_count": 5,
     "metadata": {},
     "output_type": "execute_result"
    }
   ],
   "source": [
    "label = data_df['weight']\n",
    "label"
   ]
  },
  {
   "cell_type": "code",
   "execution_count": 6,
   "metadata": {},
   "outputs": [
    {
     "data": {
      "text/plain": [
       "array([55.95, 56.7 , 54.15, 55.45, 57.25, 62.25, 59.8 , 60.4 , 55.4 ,\n",
       "       58.65, 58.9 , 60.85, 56.9 , 62.3 , 56.1 , 61.3 , 58.3 , 57.1 ,\n",
       "       55.1 , 57.75, 59.5 , 63.25, 63.2 , 54.85, 55.  , 58.1 , 59.05,\n",
       "       58.  , 57.15, 57.  , 57.05, 62.65, 57.25, 56.85, 56.3 , 58.05,\n",
       "       54.05, 56.5 , 58.75, 57.05, 55.35, 61.45, 59.35, 62.9 , 54.55,\n",
       "       54.9 , 54.35, 54.05, 60.9 , 55.4 , 61.45, 54.25, 54.7 , 55.  ,\n",
       "       58.25, 60.45, 57.3 , 66.9 , 54.2 , 68.95, 56.1 , 55.85, 54.45,\n",
       "       62.6 , 56.05, 55.25, 61.35, 62.65, 54.9 , 59.85, 59.25, 58.1 ,\n",
       "       59.9 , 63.  , 56.95, 54.4 , 60.2 , 54.25, 55.1 , 54.15, 60.45,\n",
       "       56.85, 60.1 , 61.75, 59.9 , 54.7 , 64.25, 58.7 , 56.45, 54.8 ,\n",
       "       63.25, 59.15, 58.95, 62.85, 55.9 , 68.7 , 58.85, 65.65, 57.5 ,\n",
       "       58.35, 61.1 , 57.5 , 58.1 , 58.65, 61.35, 58.6 , 61.8 , 54.6 ,\n",
       "       60.9 , 61.45, 60.7 , 56.75, 55.85, 59.05, 62.05, 62.3 , 56.3 ,\n",
       "       56.2 , 59.95, 61.45, 63.15, 59.  , 54.  , 55.2 , 55.25, 57.15,\n",
       "       58.65, 62.6 , 66.35, 54.25, 60.5 , 56.85, 62.9 , 54.5 , 56.4 ,\n",
       "       57.65, 54.6 , 56.85, 56.9 , 55.2 , 63.15, 60.4 , 63.05, 63.2 ,\n",
       "       61.9 , 54.4 , 59.3 , 59.45, 58.3 , 58.2 , 56.55, 56.15, 55.2 ,\n",
       "       60.8 , 54.95, 60.75, 59.  , 57.95, 56.15, 55.05, 57.35, 56.7 ,\n",
       "       56.25, 58.35, 56.85, 54.7 , 55.2 , 57.95, 55.55, 61.95, 58.3 ,\n",
       "       62.1 , 66.8 , 59.4 , 59.35, 65.65, 65.5 , 68.95, 54.25, 58.4 ,\n",
       "       65.7 , 63.4 , 56.9 , 65.6 , 55.8 , 67.65, 69.15, 56.05, 65.6 ,\n",
       "       62.85, 57.85, 56.65, 60.75, 54.95, 60.7 , 62.5 , 56.35, 61.  ,\n",
       "       59.5 , 54.25, 55.9 , 59.9 , 59.2 , 60.4 , 65.2 , 56.25, 58.95,\n",
       "       57.1 , 64.15, 57.95, 59.7 , 57.25, 67.6 , 66.2 , 54.75, 55.9 ,\n",
       "       54.65, 59.35, 62.55, 55.2 , 69.35, 54.65, 54.65, 63.2 , 55.35,\n",
       "       61.2 , 69.75, 60.75, 56.8 , 54.75, 54.9 , 58.7 , 58.8 , 61.45,\n",
       "       64.9 , 55.95, 56.3 , 59.35, 58.  , 54.85, 58.05, 58.1 , 63.15,\n",
       "       65.1 , 66.95, 55.2 , 58.9 , 66.35, 54.15, 55.95, 58.45, 59.15,\n",
       "       59.  , 64.3 , 61.3 , 65.3 , 55.25, 65.05, 59.25, 60.3 , 55.  ,\n",
       "       66.85, 58.95, 59.35, 62.4 , 57.65, 54.05, 54.1 , 61.5 , 56.95,\n",
       "       64.65, 54.75, 67.1 , 59.25, 61.5 , 60.05, 65.35, 62.15, 63.75,\n",
       "       57.4 , 57.8 , 64.9 , 58.3 , 56.6 , 66.95, 57.1 , 56.85, 67.85,\n",
       "       67.65, 55.65, 58.65, 56.55, 67.55, 65.1 , 55.9 , 58.2 , 57.6 ,\n",
       "       63.7 , 61.8 , 57.15, 57.55, 54.75, 54.25, 54.3 , 66.25, 56.2 ,\n",
       "       58.05, 62.7 , 59.45, 63.6 , 57.55, 67.9 , 68.75, 58.25, 54.9 ,\n",
       "       68.75, 69.85, 67.9 , 68.6 , 58.55, 65.2 , 61.3 , 59.8 , 66.2 ,\n",
       "       54.9 , 56.7 , 60.95, 60.2 , 56.85, 60.7 , 54.95, 58.6 , 57.1 ,\n",
       "       64.75, 60.95, 56.15, 62.25, 57.85, 56.6 , 60.9 , 54.4 , 56.55,\n",
       "       58.15, 61.8 , 60.4 , 54.5 , 66.8 , 63.95, 67.4 , 54.05, 58.6 ,\n",
       "       67.85, 67.  , 57.4 , 54.1 , 55.55, 56.35, 61.35, 61.7 , 57.35,\n",
       "       55.7 , 54.6 , 54.4 , 58.15, 54.75, 63.35, 65.  , 64.25, 58.8 ,\n",
       "       67.75, 54.9 , 60.1 , 57.05, 55.1 , 66.8 , 57.1 , 54.4 , 61.4 ,\n",
       "       60.35, 55.75, 56.25, 55.85, 56.75, 55.9 , 65.3 , 62.1 , 58.15,\n",
       "       63.2 , 62.15, 66.  , 59.25, 59.95, 61.55, 58.9 , 55.35, 67.15,\n",
       "       58.1 , 58.  , 57.6 , 57.85, 59.75, 54.75, 68.8 , 65.9 , 66.5 ,\n",
       "       58.25, 58.95, 57.1 , 57.75, 54.3 , 55.7 , 56.85, 56.5 , 64.65,\n",
       "       57.8 , 55.3 , 60.55, 61.25, 58.1 , 59.85, 59.15, 54.3 , 67.8 ,\n",
       "       60.3 , 54.05, 69.8 , 63.65, 56.  , 56.1 , 56.2 , 56.35, 58.85,\n",
       "       56.2 , 61.  , 58.9 , 58.  , 55.75, 59.55, 60.95, 57.75, 68.1 ,\n",
       "       62.95, 67.15, 58.45, 58.85, 55.35, 69.8 , 56.  , 66.45, 54.1 ,\n",
       "       66.5 , 56.75, 54.55, 62.45, 60.75, 55.6 , 58.5 , 60.3 , 67.9 ,\n",
       "       62.  , 60.7 , 55.  , 61.9 , 60.8 , 55.05, 54.85, 56.3 , 69.55,\n",
       "       54.4 , 61.35, 55.2 , 58.35, 58.6 , 54.35, 56.5 , 64.6 , 60.35,\n",
       "       55.05, 68.9 , 56.5 , 54.1 , 54.3 , 58.65, 60.95, 64.3 , 62.55])"
      ]
     },
     "execution_count": 6,
     "metadata": {},
     "output_type": "execute_result"
    }
   ],
   "source": [
    "temp_label = label.to_numpy()\n",
    "temp_label"
   ]
  },
  {
   "cell_type": "code",
   "execution_count": 7,
   "metadata": {},
   "outputs": [],
   "source": [
    "from sklearn.model_selection import train_test_split\n",
    "X_train, X_test, y_train, y_test = train_test_split(data_arr, temp_label, test_size=0.2, random_state=1)"
   ]
  },
  {
   "cell_type": "code",
   "execution_count": 8,
   "metadata": {},
   "outputs": [],
   "source": [
    "from sklearn import  linear_model\n",
    "from sklearn.linear_model import Ridge, Lasso\n",
    "from sklearn.metrics import mean_squared_error, r2_score, mean_absolute_error\n",
    "from math import sqrt\n",
    "from sklearn.preprocessing import PolynomialFeatures"
   ]
  },
  {
   "cell_type": "code",
   "execution_count": 9,
   "metadata": {},
   "outputs": [],
   "source": [
    "def create_polynomial_regression_model(degree):\n",
    "    #\"Creates a polynomial regression model for the given degree\"\n",
    "    poly_features = PolynomialFeatures(degree=degree)\n",
    "    # transforms the existing features to higher degree features.\n",
    "    X_train_poly = poly_features.fit_transform(X_train)\n",
    "    # fit the transformed features to Linear Regression\n",
    "    poly_model = linear_model.LinearRegression()\n",
    "    poly_model.fit(X_train_poly, y_train)\n",
    "    # predicting on training data-set\n",
    "    y_train_predicted = poly_model.predict(X_train_poly)\n",
    "#     y_train_predicted = np.expm1(y_train_predicted)\n",
    "    # predicting on test data-set\n",
    "    y_test_predict = poly_model.predict(poly_features.fit_transform(X_test))\n",
    "#     y_test_predict = np.expm1(y_test_predict)\n",
    "    # evaluating the model on training dataset\n",
    "    rmse_train = np.sqrt(mean_squared_error(y_train, y_train_predicted))\n",
    "    rmae_train = (mean_absolute_error(y_train, y_train_predicted))\n",
    "    r2_train = r2_score(y_train, y_train_predicted)\n",
    "    # evaluating the model on test dataset\n",
    "    rmse_test = np.sqrt(mean_squared_error(y_test, y_test_predict))\n",
    "    rmae_test = (mean_absolute_error(y_test, y_test_predict))\n",
    "    r2_test = r2_score(y_test, y_test_predict)\n",
    "#     print(\"The model performance for the training set\")\n",
    "#     print(\"-------------------------------------------\")\n",
    "#     print(\"RMSE of training set is {}\".format(rmse_train))\n",
    "#     print(\"RMAE of training set is {}\".format(rmae_train))\n",
    "#     print(\"Model score of training set is {}\".format(r2_train))\n",
    "#     print(\"\\n\")\n",
    "    print(\"The model performance for the test set\")\n",
    "    print(\"-------------------------------------------\")\n",
    "    print(\"RMSE of test set is {}\".format(rmse_test))\n",
    "    print(\"RMAE of test set is {}\".format(rmae_test))\n",
    "    print(\"Model score of test set is {}\".format(r2_test))"
   ]
  },
  {
   "cell_type": "code",
   "execution_count": 10,
   "metadata": {},
   "outputs": [],
   "source": [
    "def report_goodness(model,X_test,y_test,predictor_log=True):\n",
    "    # Make predictions using the testing set\n",
    "    y_pred = model.predict(X_test)\n",
    "    y_true = y_test\n",
    "    if predictor_log:\n",
    "        y_true = np.log(y_test)\n",
    "    print('Model Performance')\n",
    "    print(\"Root Mean squared error: %.4f\" %sqrt(mean_squared_error(y_true, y_pred)))\n",
    "    print(\"Mean squared error: %.4f\" %mean_squared_error(y_true, y_pred))\n",
    "    print('Mean Absolute Error: %.4f' %mean_absolute_error(y_true, y_pred))\n",
    "    print('Variant score: %.4f' %r2_score(y_true, y_pred))"
   ]
  },
  {
   "cell_type": "code",
   "execution_count": 11,
   "metadata": {},
   "outputs": [
    {
     "name": "stdout",
     "output_type": "stream",
     "text": [
      "Model Performance\n",
      "Root Mean squared error: 0.2778\n",
      "Mean squared error: 0.0772\n",
      "Mean Absolute Error: 0.1871\n",
      "Variant score: 0.9953\n"
     ]
    }
   ],
   "source": [
    "model_linear = linear_model.LinearRegression()\n",
    "model_linear = model_linear.fit(X_train,y_train)\n",
    "\n",
    "report_goodness(model_linear,X_test,y_test, False)"
   ]
  },
  {
   "cell_type": "code",
   "execution_count": 12,
   "metadata": {},
   "outputs": [
    {
     "name": "stdout",
     "output_type": "stream",
     "text": [
      "Model Performance\n",
      "Root Mean squared error: 0.2778\n",
      "Mean squared error: 0.0772\n",
      "Mean Absolute Error: 0.1871\n",
      "Variant score: 0.9953\n"
     ]
    }
   ],
   "source": [
    "model_ridge = Ridge(fit_intercept=True, alpha=0.0001, random_state=4)\n",
    "model_ridge = model_ridge.fit(X_train,y_train)\n",
    "\n",
    "report_goodness(model_ridge,X_test,y_test, False)"
   ]
  },
  {
   "cell_type": "code",
   "execution_count": 13,
   "metadata": {},
   "outputs": [
    {
     "name": "stdout",
     "output_type": "stream",
     "text": [
      "Model Performance\n",
      "Root Mean squared error: 0.2778\n",
      "Mean squared error: 0.0772\n",
      "Mean Absolute Error: 0.1871\n",
      "Variant score: 0.9953\n"
     ]
    }
   ],
   "source": [
    "model_lasso = Lasso(fit_intercept=True, alpha=0.0001, random_state=4, max_iter=2000)\n",
    "model_lasso = model_lasso.fit(X_train,y_train)\n",
    "\n",
    "report_goodness(model_lasso,X_test,y_test,False)"
   ]
  },
  {
   "cell_type": "code",
   "execution_count": 14,
   "metadata": {},
   "outputs": [
    {
     "name": "stdout",
     "output_type": "stream",
     "text": [
      "The model performance for the test set\n",
      "-------------------------------------------\n",
      "RMSE of test set is 0.27783432027893085\n",
      "RMAE of test set is 0.18712209551155554\n",
      "Model score of test set is 0.9952628076391933\n"
     ]
    }
   ],
   "source": [
    "create_polynomial_regression_model(1)"
   ]
  },
  {
   "cell_type": "code",
   "execution_count": 15,
   "metadata": {},
   "outputs": [
    {
     "name": "stdout",
     "output_type": "stream",
     "text": [
      "The model performance for the test set\n",
      "-------------------------------------------\n",
      "RMSE of test set is 0.25260762472088216\n",
      "RMAE of test set is 0.17822207535753848\n",
      "Model score of test set is 0.996084004840877\n"
     ]
    }
   ],
   "source": [
    "create_polynomial_regression_model(2)"
   ]
  },
  {
   "cell_type": "code",
   "execution_count": 16,
   "metadata": {},
   "outputs": [
    {
     "name": "stdout",
     "output_type": "stream",
     "text": [
      "The model performance for the test set\n",
      "-------------------------------------------\n",
      "RMSE of test set is 0.2327509494327812\n",
      "RMAE of test set is 0.17175526260401988\n",
      "Model score of test set is 0.996675455439847\n"
     ]
    }
   ],
   "source": [
    "create_polynomial_regression_model(3)"
   ]
  },
  {
   "cell_type": "code",
   "execution_count": 17,
   "metadata": {},
   "outputs": [
    {
     "name": "stdout",
     "output_type": "stream",
     "text": [
      "The model performance for the test set\n",
      "-------------------------------------------\n",
      "RMSE of test set is 0.2806974869852495\n",
      "RMAE of test set is 0.19126655878531038\n",
      "Model score of test set is 0.9951646681526256\n"
     ]
    }
   ],
   "source": [
    "create_polynomial_regression_model(4)"
   ]
  },
  {
   "cell_type": "code",
   "execution_count": 18,
   "metadata": {},
   "outputs": [
    {
     "name": "stdout",
     "output_type": "stream",
     "text": [
      "The model performance for the test set\n",
      "-------------------------------------------\n",
      "RMSE of test set is 0.3245342830520676\n",
      "RMAE of test set is 0.1910883226109611\n",
      "Model score of test set is 0.9935364606259577\n"
     ]
    }
   ],
   "source": [
    "create_polynomial_regression_model(5)"
   ]
  },
  {
   "cell_type": "code",
   "execution_count": null,
   "metadata": {},
   "outputs": [],
   "source": []
  }
 ],
 "metadata": {
  "kernelspec": {
   "display_name": "Python 3",
   "language": "python",
   "name": "python3"
  },
  "language_info": {
   "codemirror_mode": {
    "name": "ipython",
    "version": 3
   },
   "file_extension": ".py",
   "mimetype": "text/x-python",
   "name": "python",
   "nbconvert_exporter": "python",
   "pygments_lexer": "ipython3",
   "version": "3.7.3"
  }
 },
 "nbformat": 4,
 "nbformat_minor": 2
}
