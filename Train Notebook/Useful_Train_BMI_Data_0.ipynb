{
 "cells": [
  {
   "cell_type": "code",
   "execution_count": 1,
   "metadata": {},
   "outputs": [
    {
     "name": "stderr",
     "output_type": "stream",
     "text": [
      "/usr/local/lib/python3.7/dist-packages/sklearn/externals/joblib/__init__.py:15: DeprecationWarning: sklearn.externals.joblib is deprecated in 0.21 and will be removed in 0.23. Please import this functionality directly from joblib, which can be installed with: pip install joblib. If this warning is raised when loading pickled models, you may need to re-serialize those models with scikit-learn 0.21+.\n",
      "  warnings.warn(msg, category=DeprecationWarning)\n"
     ]
    }
   ],
   "source": [
    "import pandas as pd\n",
    "import os\n",
    "\n",
    "import numpy as np\n",
    "import math\n",
    "import random\n",
    "import itertools\n",
    "import random\n",
    "from sklearn.externals import joblib\n",
    "\n",
    "import matplotlib.pyplot as plt\n",
    "import math"
   ]
  },
  {
   "cell_type": "code",
   "execution_count": 2,
   "metadata": {},
   "outputs": [
    {
     "data": {
      "text/html": [
       "<div>\n",
       "<style scoped>\n",
       "    .dataframe tbody tr th:only-of-type {\n",
       "        vertical-align: middle;\n",
       "    }\n",
       "\n",
       "    .dataframe tbody tr th {\n",
       "        vertical-align: top;\n",
       "    }\n",
       "\n",
       "    .dataframe thead th {\n",
       "        text-align: right;\n",
       "    }\n",
       "</style>\n",
       "<table border=\"1\" class=\"dataframe\">\n",
       "  <thead>\n",
       "    <tr style=\"text-align: right;\">\n",
       "      <th></th>\n",
       "      <th>height</th>\n",
       "      <th>weight</th>\n",
       "      <th>bmi</th>\n",
       "    </tr>\n",
       "  </thead>\n",
       "  <tbody>\n",
       "    <tr>\n",
       "      <td>0</td>\n",
       "      <td>155.95</td>\n",
       "      <td>55.95</td>\n",
       "      <td>23.01</td>\n",
       "    </tr>\n",
       "    <tr>\n",
       "      <td>1</td>\n",
       "      <td>156.70</td>\n",
       "      <td>56.70</td>\n",
       "      <td>23.09</td>\n",
       "    </tr>\n",
       "    <tr>\n",
       "      <td>2</td>\n",
       "      <td>154.15</td>\n",
       "      <td>54.15</td>\n",
       "      <td>22.79</td>\n",
       "    </tr>\n",
       "    <tr>\n",
       "      <td>3</td>\n",
       "      <td>155.45</td>\n",
       "      <td>55.45</td>\n",
       "      <td>22.95</td>\n",
       "    </tr>\n",
       "    <tr>\n",
       "      <td>4</td>\n",
       "      <td>157.25</td>\n",
       "      <td>57.25</td>\n",
       "      <td>23.15</td>\n",
       "    </tr>\n",
       "    <tr>\n",
       "      <td>...</td>\n",
       "      <td>...</td>\n",
       "      <td>...</td>\n",
       "      <td>...</td>\n",
       "    </tr>\n",
       "    <tr>\n",
       "      <td>481</td>\n",
       "      <td>154.30</td>\n",
       "      <td>54.30</td>\n",
       "      <td>22.81</td>\n",
       "    </tr>\n",
       "    <tr>\n",
       "      <td>482</td>\n",
       "      <td>158.65</td>\n",
       "      <td>58.65</td>\n",
       "      <td>23.30</td>\n",
       "    </tr>\n",
       "    <tr>\n",
       "      <td>483</td>\n",
       "      <td>160.95</td>\n",
       "      <td>60.95</td>\n",
       "      <td>23.53</td>\n",
       "    </tr>\n",
       "    <tr>\n",
       "      <td>484</td>\n",
       "      <td>164.30</td>\n",
       "      <td>64.30</td>\n",
       "      <td>23.82</td>\n",
       "    </tr>\n",
       "    <tr>\n",
       "      <td>485</td>\n",
       "      <td>162.55</td>\n",
       "      <td>62.55</td>\n",
       "      <td>23.67</td>\n",
       "    </tr>\n",
       "  </tbody>\n",
       "</table>\n",
       "<p>486 rows × 3 columns</p>\n",
       "</div>"
      ],
      "text/plain": [
       "     height  weight    bmi\n",
       "0    155.95   55.95  23.01\n",
       "1    156.70   56.70  23.09\n",
       "2    154.15   54.15  22.79\n",
       "3    155.45   55.45  22.95\n",
       "4    157.25   57.25  23.15\n",
       "..      ...     ...    ...\n",
       "481  154.30   54.30  22.81\n",
       "482  158.65   58.65  23.30\n",
       "483  160.95   60.95  23.53\n",
       "484  164.30   64.30  23.82\n",
       "485  162.55   62.55  23.67\n",
       "\n",
       "[486 rows x 3 columns]"
      ]
     },
     "execution_count": 2,
     "metadata": {},
     "output_type": "execute_result"
    }
   ],
   "source": [
    "label_file = \"Dataset/selection_bmi_special.csv\"\n",
    "data_df = pd.read_csv(label_file)\n",
    "data_df"
   ]
  },
  {
   "cell_type": "code",
   "execution_count": 3,
   "metadata": {},
   "outputs": [],
   "source": [
    "estimation_val = []\n",
    "true_val = []"
   ]
  },
  {
   "cell_type": "code",
   "execution_count": 4,
   "metadata": {},
   "outputs": [],
   "source": [
    "data = data_df.drop(['bmi'], axis=1)"
   ]
  },
  {
   "cell_type": "code",
   "execution_count": 5,
   "metadata": {},
   "outputs": [],
   "source": [
    "data_arr = data.to_numpy()"
   ]
  },
  {
   "cell_type": "code",
   "execution_count": 6,
   "metadata": {},
   "outputs": [
    {
     "data": {
      "text/plain": [
       "0      23.01\n",
       "1      23.09\n",
       "2      22.79\n",
       "3      22.95\n",
       "4      23.15\n",
       "       ...  \n",
       "481    22.81\n",
       "482    23.30\n",
       "483    23.53\n",
       "484    23.82\n",
       "485    23.67\n",
       "Name: bmi, Length: 486, dtype: float64"
      ]
     },
     "execution_count": 6,
     "metadata": {},
     "output_type": "execute_result"
    }
   ],
   "source": [
    "label = data_df['bmi']\n",
    "label"
   ]
  },
  {
   "cell_type": "code",
   "execution_count": 7,
   "metadata": {},
   "outputs": [
    {
     "data": {
      "text/plain": [
       "array([23.01, 23.09, 22.79, 22.95, 23.15, 23.65, 23.42, 23.48, 22.94,\n",
       "       23.3 , 23.33, 23.52, 23.11, 23.65, 23.02, 23.56, 23.27, 23.14,\n",
       "       22.9 , 23.21, 23.39, 23.73, 23.73, 22.87, 22.89, 23.24, 23.34,\n",
       "       23.23, 23.14, 23.12, 23.13, 23.68, 23.15, 23.11, 23.05, 23.24,\n",
       "       22.78, 23.07, 23.31, 23.13, 22.93, 23.57, 23.37, 23.7 , 22.84,\n",
       "       22.88, 22.81, 22.78, 23.52, 22.94, 23.57, 22.8 , 22.86, 22.89,\n",
       "       23.26, 23.48, 23.16, 24.02, 22.79, 24.16, 23.02, 22.99, 22.83,\n",
       "       23.68, 23.02, 22.92, 23.57, 23.68, 22.88, 23.42, 23.36, 23.24,\n",
       "       23.43, 23.71, 23.12, 22.82, 23.46, 22.8 , 22.9 , 22.79, 23.48,\n",
       "       23.11, 23.45, 23.6 , 23.43, 22.86, 23.82, 23.31, 23.06, 22.87,\n",
       "       23.73, 23.35, 23.33, 23.7 , 23.  , 24.14, 23.32, 23.92, 23.18,\n",
       "       23.27, 23.54, 23.18, 23.24, 23.3 , 23.57, 23.3 , 23.61, 22.84,\n",
       "       23.52, 23.57, 23.5 , 23.1 , 22.99, 23.34, 23.63, 23.65, 23.05,\n",
       "       23.03, 23.43, 23.57, 23.72, 23.34, 22.77, 22.92, 22.92, 23.14,\n",
       "       23.3 , 23.68, 23.98, 22.8 , 23.49, 23.11, 23.7 , 22.83, 23.06,\n",
       "       23.2 , 22.84, 23.11, 23.11, 22.92, 23.72, 23.48, 23.72, 23.73,\n",
       "       23.62, 22.82, 23.37, 23.38, 23.27, 23.25, 23.07, 23.03, 22.92,\n",
       "       23.51, 22.89, 23.51, 23.34, 23.23, 23.03, 22.9 , 23.16, 23.09,\n",
       "       23.04, 23.27, 23.11, 22.86, 22.92, 23.23, 22.96, 23.62, 23.27,\n",
       "       23.63, 24.01, 23.38, 23.37, 23.92, 23.91, 24.16, 22.8 , 23.28,\n",
       "       23.93, 23.75, 23.11, 23.92, 22.99, 24.07, 24.17, 23.02, 23.92,\n",
       "       23.7 , 23.22, 23.09, 23.51, 22.89, 23.5 , 23.67, 23.05, 23.53,\n",
       "       23.39, 22.8 , 23.  , 23.43, 23.36, 23.48, 23.89, 23.04, 23.33,\n",
       "       23.14, 23.81, 23.23, 23.41, 23.15, 24.07, 23.97, 22.86, 23.  ,\n",
       "       22.85, 23.37, 23.67, 22.92, 24.18, 22.85, 22.85, 23.73, 22.93,\n",
       "       23.55, 24.21, 23.51, 23.1 , 22.86, 22.88, 23.31, 23.32, 23.57,\n",
       "       23.87, 23.01, 23.05, 23.37, 23.23, 22.87, 23.24, 23.24, 23.72,\n",
       "       23.88, 24.02, 22.92, 23.33, 23.98, 22.79, 23.01, 23.28, 23.35,\n",
       "       23.34, 23.82, 23.56, 23.9 , 22.92, 23.88, 23.36, 23.47, 22.89,\n",
       "       24.01, 23.33, 23.37, 23.66, 23.2 , 22.78, 22.78, 23.58, 23.12,\n",
       "       23.85, 22.86, 24.03, 23.36, 23.58, 23.44, 23.9 , 23.64, 23.77,\n",
       "       23.17, 23.21, 23.87, 23.27, 23.08, 24.02, 23.14, 23.11, 24.08,\n",
       "       24.07, 22.97, 23.3 , 23.07, 24.06, 23.88, 23.  , 23.25, 23.19,\n",
       "       23.77, 23.61, 23.14, 23.19, 22.86, 22.8 , 22.81, 23.97, 23.03,\n",
       "       23.24, 23.69, 23.38, 23.76, 23.19, 24.09, 24.14, 23.26, 22.88,\n",
       "       24.14, 24.21, 24.09, 24.13, 23.29, 23.89, 23.56, 23.42, 23.97,\n",
       "       22.88, 23.09, 23.53, 23.46, 23.11, 23.5 , 22.89, 23.3 , 23.14,\n",
       "       23.86, 23.53, 23.03, 23.65, 23.22, 23.08, 23.52, 22.82, 23.07,\n",
       "       23.25, 23.61, 23.48, 22.83, 24.01, 23.79, 24.05, 22.78, 23.3 ,\n",
       "       24.08, 24.02, 23.17, 22.78, 22.96, 23.05, 23.57, 23.6 , 23.16,\n",
       "       22.98, 22.84, 22.82, 23.25, 22.86, 23.74, 23.88, 23.82, 23.32,\n",
       "       24.08, 22.88, 23.45, 23.13, 22.9 , 24.01, 23.14, 22.82, 23.57,\n",
       "       23.47, 22.98, 23.04, 22.99, 23.1 , 23.  , 23.9 , 23.63, 23.25,\n",
       "       23.73, 23.64, 23.95, 23.36, 23.43, 23.58, 23.33, 22.93, 24.03,\n",
       "       23.24, 23.23, 23.19, 23.22, 23.41, 22.86, 24.15, 23.94, 23.99,\n",
       "       23.26, 23.33, 23.14, 23.21, 22.81, 22.98, 23.11, 23.07, 23.85,\n",
       "       23.21, 22.93, 23.49, 23.56, 23.24, 23.42, 23.35, 22.81, 24.08,\n",
       "       23.47, 22.78, 24.21, 23.77, 23.01, 23.02, 23.03, 23.05, 23.32,\n",
       "       23.03, 23.53, 23.33, 23.23, 22.98, 23.39, 23.53, 23.21, 24.1 ,\n",
       "       23.71, 24.03, 23.28, 23.32, 22.93, 24.21, 23.01, 23.98, 22.78,\n",
       "       23.99, 23.1 , 22.84, 23.66, 23.51, 22.96, 23.29, 23.47, 24.09,\n",
       "       23.62, 23.5 , 22.89, 23.62, 23.51, 22.9 , 22.87, 23.05, 24.19,\n",
       "       22.82, 23.57, 22.92, 23.27, 23.3 , 22.81, 23.07, 23.84, 23.47,\n",
       "       22.9 , 24.15, 23.07, 22.78, 22.81, 23.3 , 23.53, 23.82, 23.67])"
      ]
     },
     "execution_count": 7,
     "metadata": {},
     "output_type": "execute_result"
    }
   ],
   "source": [
    "temp_label = label.to_numpy()\n",
    "temp_label"
   ]
  },
  {
   "cell_type": "code",
   "execution_count": 8,
   "metadata": {},
   "outputs": [],
   "source": [
    "from sklearn.model_selection import train_test_split\n",
    "X_train, X_test, y_train, y_test = train_test_split(data_arr, temp_label, test_size=0.2, random_state=1)"
   ]
  },
  {
   "cell_type": "code",
   "execution_count": 9,
   "metadata": {},
   "outputs": [
    {
     "data": {
      "text/plain": [
       "array([23.38, 22.92, 23.11, 23.14, 23.43, 23.57, 23.97, 23.63, 23.05,\n",
       "       23.89, 23.68, 23.3 , 22.9 , 22.96, 22.89, 23.98, 23.09, 22.81,\n",
       "       22.96, 23.36, 22.93, 23.68, 22.82, 23.03, 23.93, 23.38, 23.72,\n",
       "       23.03, 24.14, 23.25, 23.42, 23.02, 22.86, 23.15, 22.78, 22.86,\n",
       "       23.28, 23.11, 22.86, 22.9 , 23.64, 22.78, 22.83, 23.57, 23.79,\n",
       "       23.1 , 22.83, 23.56, 23.65, 23.14, 23.7 , 23.33, 22.88, 23.88,\n",
       "       23.14, 23.24, 22.78, 23.07, 24.01, 23.24, 23.61, 22.92, 23.73,\n",
       "       23.62, 23.11, 23.27, 23.03, 23.37, 23.73, 23.12, 23.33, 23.99,\n",
       "       22.84, 24.19, 23.48, 23.01, 22.98, 23.14, 23.05, 22.9 , 23.2 ,\n",
       "       22.78, 23.39, 23.17, 23.36, 24.06, 23.05, 24.02, 23.42, 22.81,\n",
       "       23.52, 22.85, 23.29, 23.5 , 23.13, 24.21, 23.33, 22.79])"
      ]
     },
     "execution_count": 9,
     "metadata": {},
     "output_type": "execute_result"
    }
   ],
   "source": [
    "true_val = y_test\n",
    "true_val"
   ]
  },
  {
   "cell_type": "code",
   "execution_count": 10,
   "metadata": {},
   "outputs": [],
   "source": [
    "from sklearn import  linear_model\n",
    "from sklearn.linear_model import Ridge, Lasso\n",
    "from sklearn.metrics import mean_squared_error, r2_score, mean_absolute_error\n",
    "from math import sqrt\n",
    "from sklearn.preprocessing import PolynomialFeatures"
   ]
  },
  {
   "cell_type": "code",
   "execution_count": 11,
   "metadata": {},
   "outputs": [],
   "source": [
    "def create_polynomial_regression_model(degree):\n",
    "    #\"Creates a polynomial regression model for the given degree\"\n",
    "    poly_features = PolynomialFeatures(degree=degree)\n",
    "    # transforms the existing features to higher degree features.\n",
    "    X_train_poly = poly_features.fit_transform(X_train)\n",
    "    # fit the transformed features to Linear Regression\n",
    "    poly_model = linear_model.LinearRegression()\n",
    "    poly_model.fit(X_train_poly, y_train)\n",
    "    # predicting on training data-set\n",
    "    y_train_predicted = poly_model.predict(X_train_poly)\n",
    "#     y_train_predicted = np.expm1(y_train_predicted)\n",
    "    # predicting on test data-set\n",
    "    y_test_predict = poly_model.predict(poly_features.fit_transform(X_test))\n",
    "#     y_test_predict = np.expm1(y_test_predict)\n",
    "    # evaluating the model on training dataset\n",
    "    rmse_train = np.sqrt(mean_squared_error(y_train, y_train_predicted))\n",
    "    rmae_train = (mean_absolute_error(y_train, y_train_predicted))\n",
    "    r2_train = r2_score(y_train, y_train_predicted)\n",
    "    # evaluating the model on test dataset\n",
    "    for i in y_test_predict:\n",
    "        estimation_val.append(i)\n",
    "    rmse_test = np.sqrt(mean_squared_error(y_test, y_test_predict))\n",
    "    rmae_test = (mean_absolute_error(y_test, y_test_predict))\n",
    "    r2_test = r2_score(y_test, y_test_predict)\n",
    "#     print(\"The model performance for the training set\")\n",
    "#     print(\"-------------------------------------------\")\n",
    "#     print(\"RMSE of training set is {}\".format(rmse_train))\n",
    "#     print(\"RMAE of training set is {}\".format(rmae_train))\n",
    "#     print(\"Model score of training set is {}\".format(r2_train))\n",
    "#     print(\"\\n\")\n",
    "    print(\"The model performance for the test set\")\n",
    "    print(\"-------------------------------------------\")\n",
    "    print(\"RMSE of test set is {}\".format(rmse_test))\n",
    "    print(\"RMAE of test set is {}\".format(rmae_test))\n",
    "    print(\"Model score of test set is {}\".format(r2_test))"
   ]
  },
  {
   "cell_type": "code",
   "execution_count": 12,
   "metadata": {},
   "outputs": [],
   "source": [
    "def report_goodness(model,X_test,y_test,predictor_log=True):\n",
    "    # Make predictions using the testing set\n",
    "    y_pred = model.predict(X_test)\n",
    "    y_true = y_test\n",
    "    if predictor_log:\n",
    "        y_true = np.log(y_test)\n",
    "    print('Model Performance')\n",
    "    print(\"Root Mean squared error: %.4f\" %sqrt(mean_squared_error(y_true, y_pred)))\n",
    "    print(\"Mean squared error: %.4f\" %mean_squared_error(y_true, y_pred))\n",
    "    print('Mean Absolute Error: %.4f' %mean_absolute_error(y_true, y_pred))\n",
    "    print('Variant score: %.4f' %r2_score(y_true, y_pred))"
   ]
  },
  {
   "cell_type": "code",
   "execution_count": 13,
   "metadata": {},
   "outputs": [
    {
     "name": "stdout",
     "output_type": "stream",
     "text": [
      "Model Performance\n",
      "Root Mean squared error: 0.0370\n",
      "Mean squared error: 0.0014\n",
      "Mean Absolute Error: 0.0306\n",
      "Variant score: 0.9909\n"
     ]
    }
   ],
   "source": [
    "model_linear = linear_model.LinearRegression()\n",
    "model_linear = model_linear.fit(X_train,y_train)\n",
    "\n",
    "report_goodness(model_linear,X_test,y_test, False)"
   ]
  },
  {
   "cell_type": "code",
   "execution_count": 14,
   "metadata": {},
   "outputs": [
    {
     "name": "stdout",
     "output_type": "stream",
     "text": [
      "Model Performance\n",
      "Root Mean squared error: 0.0370\n",
      "Mean squared error: 0.0014\n",
      "Mean Absolute Error: 0.0306\n",
      "Variant score: 0.9908\n"
     ]
    }
   ],
   "source": [
    "model_ridge = Ridge(fit_intercept=True, alpha=0.0001, random_state=4)\n",
    "model_ridge = model_ridge.fit(X_train,y_train)\n",
    "\n",
    "report_goodness(model_ridge,X_test,y_test, False)"
   ]
  },
  {
   "cell_type": "code",
   "execution_count": 15,
   "metadata": {},
   "outputs": [
    {
     "name": "stdout",
     "output_type": "stream",
     "text": [
      "Model Performance\n",
      "Root Mean squared error: 0.0370\n",
      "Mean squared error: 0.0014\n",
      "Mean Absolute Error: 0.0306\n",
      "Variant score: 0.9908\n"
     ]
    }
   ],
   "source": [
    "model_lasso = Lasso(fit_intercept=True, alpha=0.0001, random_state=4, max_iter=2000)\n",
    "model_lasso = model_lasso.fit(X_train,y_train)\n",
    "\n",
    "report_goodness(model_lasso,X_test,y_test,False)"
   ]
  },
  {
   "cell_type": "code",
   "execution_count": 16,
   "metadata": {},
   "outputs": [
    {
     "name": "stdout",
     "output_type": "stream",
     "text": [
      "The model performance for the test set\n",
      "-------------------------------------------\n",
      "RMSE of test set is 0.003433324581651954\n",
      "RMAE of test set is 0.0029876833545919063\n",
      "Model score of test set is 0.9999213930236814\n"
     ]
    }
   ],
   "source": [
    "create_polynomial_regression_model(2)"
   ]
  },
  {
   "cell_type": "code",
   "execution_count": 17,
   "metadata": {},
   "outputs": [
    {
     "data": {
      "text/html": [
       "<div>\n",
       "<style scoped>\n",
       "    .dataframe tbody tr th:only-of-type {\n",
       "        vertical-align: middle;\n",
       "    }\n",
       "\n",
       "    .dataframe tbody tr th {\n",
       "        vertical-align: top;\n",
       "    }\n",
       "\n",
       "    .dataframe thead th {\n",
       "        text-align: right;\n",
       "    }\n",
       "</style>\n",
       "<table border=\"1\" class=\"dataframe\">\n",
       "  <thead>\n",
       "    <tr style=\"text-align: right;\">\n",
       "      <th></th>\n",
       "      <th>estimation</th>\n",
       "      <th>ground truth</th>\n",
       "    </tr>\n",
       "  </thead>\n",
       "  <tbody>\n",
       "    <tr>\n",
       "      <td>0</td>\n",
       "      <td>23.381958</td>\n",
       "      <td>23.38</td>\n",
       "    </tr>\n",
       "    <tr>\n",
       "      <td>1</td>\n",
       "      <td>22.916992</td>\n",
       "      <td>22.92</td>\n",
       "    </tr>\n",
       "    <tr>\n",
       "      <td>2</td>\n",
       "      <td>23.105957</td>\n",
       "      <td>23.11</td>\n",
       "    </tr>\n",
       "    <tr>\n",
       "      <td>3</td>\n",
       "      <td>23.134277</td>\n",
       "      <td>23.14</td>\n",
       "    </tr>\n",
       "    <tr>\n",
       "      <td>4</td>\n",
       "      <td>23.426758</td>\n",
       "      <td>23.43</td>\n",
       "    </tr>\n",
       "    <tr>\n",
       "      <td>...</td>\n",
       "      <td>...</td>\n",
       "      <td>...</td>\n",
       "    </tr>\n",
       "    <tr>\n",
       "      <td>93</td>\n",
       "      <td>23.504883</td>\n",
       "      <td>23.50</td>\n",
       "    </tr>\n",
       "    <tr>\n",
       "      <td>94</td>\n",
       "      <td>23.128906</td>\n",
       "      <td>23.13</td>\n",
       "    </tr>\n",
       "    <tr>\n",
       "      <td>95</td>\n",
       "      <td>24.203857</td>\n",
       "      <td>24.21</td>\n",
       "    </tr>\n",
       "    <tr>\n",
       "      <td>96</td>\n",
       "      <td>23.326416</td>\n",
       "      <td>23.33</td>\n",
       "    </tr>\n",
       "    <tr>\n",
       "      <td>97</td>\n",
       "      <td>22.796875</td>\n",
       "      <td>22.79</td>\n",
       "    </tr>\n",
       "  </tbody>\n",
       "</table>\n",
       "<p>98 rows × 2 columns</p>\n",
       "</div>"
      ],
      "text/plain": [
       "    estimation  ground truth\n",
       "0    23.381958         23.38\n",
       "1    22.916992         22.92\n",
       "2    23.105957         23.11\n",
       "3    23.134277         23.14\n",
       "4    23.426758         23.43\n",
       "..         ...           ...\n",
       "93   23.504883         23.50\n",
       "94   23.128906         23.13\n",
       "95   24.203857         24.21\n",
       "96   23.326416         23.33\n",
       "97   22.796875         22.79\n",
       "\n",
       "[98 rows x 2 columns]"
      ]
     },
     "execution_count": 17,
     "metadata": {},
     "output_type": "execute_result"
    }
   ],
   "source": [
    "df = pd.DataFrame(columns = ['estimation', 'ground truth'])\n",
    "df['ground truth'] = true_val\n",
    "df['estimation'] = estimation_val\n",
    "df"
   ]
  },
  {
   "cell_type": "code",
   "execution_count": 18,
   "metadata": {},
   "outputs": [],
   "source": [
    "df.to_csv('5feature_bmi_final.csv', index=False)"
   ]
  },
  {
   "cell_type": "code",
   "execution_count": null,
   "metadata": {},
   "outputs": [],
   "source": []
  }
 ],
 "metadata": {
  "kernelspec": {
   "display_name": "Python 3",
   "language": "python",
   "name": "python3"
  },
  "language_info": {
   "codemirror_mode": {
    "name": "ipython",
    "version": 3
   },
   "file_extension": ".py",
   "mimetype": "text/x-python",
   "name": "python",
   "nbconvert_exporter": "python",
   "pygments_lexer": "ipython3",
   "version": "3.7.3"
  }
 },
 "nbformat": 4,
 "nbformat_minor": 2
}
