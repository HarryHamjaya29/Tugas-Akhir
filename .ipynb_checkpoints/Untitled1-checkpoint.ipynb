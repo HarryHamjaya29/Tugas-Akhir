{
 "cells": [
  {
   "cell_type": "code",
   "execution_count": 9,
   "metadata": {},
   "outputs": [],
   "source": [
    "from sklearn.externals import joblib\n",
    "from IPython.display import display, Image\n",
    "\n",
    "import pandas as pd\n",
    "import os\n",
    "\n",
    "import numpy as np\n",
    "import face_recognition\n",
    "\n",
    "import time"
   ]
  },
  {
   "cell_type": "code",
   "execution_count": 10,
   "metadata": {},
   "outputs": [],
   "source": [
    "weight_model = 'weight_predictor_embedding.model'\n",
    "height_model = 'height_predictor_embedding.model'\n",
    "bmi_model = 'bmi_predictor_embedding.model'"
   ]
  },
  {
   "cell_type": "code",
   "execution_count": 11,
   "metadata": {},
   "outputs": [],
   "source": [
    "height_model = joblib.load(height_model)\n",
    "weight_model = joblib.load(weight_model)\n",
    "bmi_model = joblib.load(bmi_model)"
   ]
  },
  {
   "cell_type": "code",
   "execution_count": 12,
   "metadata": {},
   "outputs": [],
   "source": [
    "def predict_height_width_BMI(test_image,height_model,weight_model,bmi_model):\n",
    "    start_time = time.time()\n",
    "    test_array = np.expand_dims(np.array(get_face_encoding(test_image)),axis=0)\n",
    "    height = np.asscalar(np.exp(height_model.predict(test_array)))\n",
    "    weight = np.asscalar(np.exp(weight_model.predict(test_array)))\n",
    "    bmi = np.asscalar(np.exp(bmi_model.predict(test_array)))\n",
    "    return {'height':height,'weight':weight,'bmi':bmi}"
   ]
  },
  {
   "cell_type": "code",
   "execution_count": 13,
   "metadata": {},
   "outputs": [],
   "source": [
    "def get_face_encoding(image_path):\n",
    "    print(image_path)\n",
    "    picture_of_me = face_recognition.load_image_file(image_path)\n",
    "    my_face_encoding = face_recognition.face_encodings(picture_of_me)\n",
    "    if(image_path == \"/home/harry/Downloads/TA/release/Data/Images/img_0.bmp\"):\n",
    "        print(my_face_encoding)\n",
    "    if not my_face_encoding:\n",
    "        print(\"no face found !!!\")\n",
    "        return np.zeros(128).tolist()\n",
    "    return my_face_encoding[0].tolist()"
   ]
  },
  {
   "cell_type": "code",
   "execution_count": 6,
   "metadata": {},
   "outputs": [],
   "source": [
    "path = '../Test Images/img_4183.bmp'"
   ]
  },
  {
   "cell_type": "code",
   "execution_count": 7,
   "metadata": {},
   "outputs": [
    {
     "name": "stdout",
     "output_type": "stream",
     "text": [
      "../Test Images/img_4183.bmp\n"
     ]
    },
    {
     "name": "stderr",
     "output_type": "stream",
     "text": [
      "/usr/local/lib/python3.7/dist-packages/ipykernel_launcher.py:3: DeprecationWarning: np.asscalar(a) is deprecated since NumPy v1.16, use a.item() instead\n",
      "  This is separate from the ipykernel package so we can avoid doing imports until\n",
      "/usr/local/lib/python3.7/dist-packages/ipykernel_launcher.py:4: DeprecationWarning: np.asscalar(a) is deprecated since NumPy v1.16, use a.item() instead\n",
      "  after removing the cwd from sys.path.\n",
      "/usr/local/lib/python3.7/dist-packages/ipykernel_launcher.py:5: DeprecationWarning: np.asscalar(a) is deprecated since NumPy v1.16, use a.item() instead\n",
      "  \"\"\"\n"
     ]
    },
    {
     "data": {
      "text/plain": [
       "{'height': 1.7671715423628933,\n",
       " 'weight': 74.08462832857482,\n",
       " 'bmi': 23.730035287112557}"
      ]
     },
     "execution_count": 7,
     "metadata": {},
     "output_type": "execute_result"
    }
   ],
   "source": [
    "predict_height_width_BMI(path,height_model,weight_model,bmi_model)"
   ]
  },
  {
   "cell_type": "code",
   "execution_count": 8,
   "metadata": {},
   "outputs": [
    {
     "data": {
      "text/plain": [
       "['bmi_predictor_embedding_2.model']"
      ]
     },
     "execution_count": 8,
     "metadata": {},
     "output_type": "execute_result"
    }
   ],
   "source": [
    "weight_model_2 = 'weight_predictor_embedding_2.model'\n",
    "height_model_2 = 'height_predictor_embedding_2.model'\n",
    "bmi_model_2 = 'bmi_predictor_embedding_2.model'\n",
    "joblib.dump(height_model, height_model_2, protocol=2)\n",
    "joblib.dump(weight_model, weight_model_2, protocol=2)\n",
    "joblib.dump(bmi_model, bmi_model_2, protocol=2)"
   ]
  },
  {
   "cell_type": "code",
   "execution_count": null,
   "metadata": {},
   "outputs": [],
   "source": []
  }
 ],
 "metadata": {
  "kernelspec": {
   "display_name": "Python 3",
   "language": "python",
   "name": "python3"
  },
  "language_info": {
   "codemirror_mode": {
    "name": "ipython",
    "version": 3
   },
   "file_extension": ".py",
   "mimetype": "text/x-python",
   "name": "python",
   "nbconvert_exporter": "python",
   "pygments_lexer": "ipython3",
   "version": "3.7.3"
  }
 },
 "nbformat": 4,
 "nbformat_minor": 2
}
